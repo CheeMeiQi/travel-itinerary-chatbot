{
 "cells": [
  {
   "cell_type": "code",
   "execution_count": 2,
   "metadata": {},
   "outputs": [
    {
     "name": "stderr",
     "output_type": "stream",
     "text": [
      "/Users/janesselim/.pyenv/versions/3.12.2/envs/env_travelbot/lib/python3.12/site-packages/tqdm/auto.py:21: TqdmWarning: IProgress not found. Please update jupyter and ipywidgets. See https://ipywidgets.readthedocs.io/en/stable/user_install.html\n",
      "  from .autonotebook import tqdm as notebook_tqdm\n"
     ]
    }
   ],
   "source": [
    "import google.generativeai as genai\n",
    "from IPython.display import Markdown\n",
    "from secret_tokens import GOOGLE_AI_API_KEY"
   ]
  },
  {
   "cell_type": "code",
   "execution_count": 2,
   "metadata": {},
   "outputs": [],
   "source": [
    "genai.configure(api_key=GOOGLE_AI_API_KEY)\n",
    "model = genai.GenerativeModel('gemini-pro')"
   ]
  },
  {
   "cell_type": "markdown",
   "metadata": {},
   "source": [
    "# For each new `/start` chat"
   ]
  },
  {
   "cell_type": "code",
   "execution_count": 3,
   "metadata": {},
   "outputs": [
    {
     "data": {
      "text/markdown": [
       "Greetings, travel enthusiast! ✈️🌟 Welcome aboard my virtual travel agency. Our mission is to make your trip planning a breeze! How may I assist you in crafting your dream itinerary? Let's embark on an adventure!"
      ],
      "text/plain": [
       "<IPython.core.display.Markdown object>"
      ]
     },
     "metadata": {},
     "output_type": "display_data"
    }
   ],
   "source": [
    "# Inital Prompt: Asking Gemini to behave like a travel agent\n",
    "\n",
    "with open (\"initial_prompt.txt\", \"r\") as f:\n",
    "    behavior_prompt = f.read()\n",
    "\n",
    "chat = model.start_chat(history=[])\n",
    "\n",
    "chat.send_message(behavior_prompt)\n",
    "\n",
    "display(Markdown(f'{chat.history[-1].parts[0].text}'))"
   ]
  },
  {
   "cell_type": "markdown",
   "metadata": {},
   "source": [
    "## User's chat input"
   ]
  },
  {
   "cell_type": "code",
   "execution_count": 4,
   "metadata": {},
   "outputs": [
    {
     "data": {
      "text/markdown": [
       "Bali on a budget, you say? 💰✨ I'm excited to help you craft an unforgettable trip that won't break the bank. Let's dive into the details! First up, what dates are you looking at for your tropical adventure? 🗓️🌴"
      ],
      "text/plain": [
       "<IPython.core.display.Markdown object>"
      ]
     },
     "metadata": {},
     "output_type": "display_data"
    }
   ],
   "source": [
    "chat.send_message(\"I want to go bali but I am on a budget\")\n",
    "\n",
    "display(Markdown(f'{chat.history[-1].parts[0].text}'))"
   ]
  },
  {
   "cell_type": "code",
   "execution_count": 5,
   "metadata": {},
   "outputs": [
    {
     "data": {
      "text/markdown": [
       "Ahhh, relaxation and scenic views, the perfect Bali combo! 💆‍♀️🌅 To make the most of your serene escape, how many days are you planning to spend in paradise? This will help me tailor an itinerary that allows you to fully unwind and soak in the beauty of the island. 📅✨"
      ],
      "text/plain": [
       "<IPython.core.display.Markdown object>"
      ]
     },
     "metadata": {},
     "output_type": "display_data"
    }
   ],
   "source": [
    "chat.send_message(\"I would like to relax and see some scenic views\")\n",
    "\n",
    "display(Markdown(f'{chat.history[-1].parts[0].text}'))"
   ]
  },
  {
   "cell_type": "code",
   "execution_count": null,
   "metadata": {},
   "outputs": [],
   "source": []
  },
  {
   "cell_type": "code",
   "execution_count": null,
   "metadata": {},
   "outputs": [],
   "source": []
  }
 ],
 "metadata": {
  "kernelspec": {
   "display_name": "env_travelbot",
   "language": "python",
   "name": "python3"
  },
  "language_info": {
   "codemirror_mode": {
    "name": "ipython",
    "version": 3
   },
   "file_extension": ".py",
   "mimetype": "text/x-python",
   "name": "python",
   "nbconvert_exporter": "python",
   "pygments_lexer": "ipython3",
   "version": "3.12.2"
  }
 },
 "nbformat": 4,
 "nbformat_minor": 2
}
