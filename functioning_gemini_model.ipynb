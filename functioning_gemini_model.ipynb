{
 "cells": [
  {
   "cell_type": "code",
   "execution_count": 2,
   "metadata": {},
   "outputs": [],
   "source": [
    "import google.generativeai as genai\n",
    "from IPython.display import Markdown\n",
    "from secret_tokens import GOOGLE_AI_API_KEY"
   ]
  },
  {
   "cell_type": "code",
   "execution_count": 3,
   "metadata": {},
   "outputs": [],
   "source": [
    "genai.configure(api_key=GOOGLE_AI_API_KEY)\n",
    "model = genai.GenerativeModel('gemini-pro')"
   ]
  },
  {
   "cell_type": "markdown",
   "metadata": {},
   "source": [
    "# For each new `/start` chat"
   ]
  },
  {
   "cell_type": "code",
   "execution_count": 4,
   "metadata": {},
   "outputs": [
    {
     "data": {
      "text/markdown": [
       "Hello! Welcome to our warm and wonderful travel planning haven. I'm your dedicated travel agent, ready to turn your travel dreams into a reality. How may I assist you today? Is there a particular destination or experience you have in mind?"
      ],
      "text/plain": [
       "<IPython.core.display.Markdown object>"
      ]
     },
     "metadata": {},
     "output_type": "display_data"
    }
   ],
   "source": [
    "# Inital Prompt: Asking Gemini to behave like a travel agent\n",
    "\n",
    "with open (\"initial_prompt.txt\", \"r\") as f:\n",
    "    behavior_prompt = f.read()\n",
    "\n",
    "chat = model.start_chat(history=[])\n",
    "\n",
    "chat.send_message(behavior_prompt)\n",
    "\n",
    "display(Markdown(f'{chat.history[-1].parts[0].text}'))"
   ]
  },
  {
   "cell_type": "markdown",
   "metadata": {},
   "source": [
    "## User's chat input"
   ]
  },
  {
   "cell_type": "code",
   "execution_count": 5,
   "metadata": {},
   "outputs": [
    {
     "data": {
      "text/markdown": [
       "Bali on a budget, eh? You've got a great taste in destinations and I'm excited to help you plan an unforgettable trip that won't break the bank. When are you planning to visit this tropical paradise?"
      ],
      "text/plain": [
       "<IPython.core.display.Markdown object>"
      ]
     },
     "metadata": {},
     "output_type": "display_data"
    }
   ],
   "source": [
    "chat.send_message(\"I want to go bali but I am on a budget\")\n",
    "\n",
    "display(Markdown(f'{chat.history[-1].parts[0].text}'))"
   ]
  },
  {
   "cell_type": "code",
   "execution_count": 6,
   "metadata": {},
   "outputs": [
    {
     "data": {
      "text/markdown": [
       "Ah, relaxation and scenic views, a perfect combination for Bali! To make sure you have ample time to soak in the beauty of the island, how many days were you thinking of spending there?"
      ],
      "text/plain": [
       "<IPython.core.display.Markdown object>"
      ]
     },
     "metadata": {},
     "output_type": "display_data"
    }
   ],
   "source": [
    "chat.send_message(\"I would like to relax and see some scenic views\")\n",
    "\n",
    "display(Markdown(f'{chat.history[-1].parts[0].text}'))"
   ]
  },
  {
   "cell_type": "code",
   "execution_count": null,
   "metadata": {},
   "outputs": [],
   "source": []
  }
 ],
 "metadata": {
  "kernelspec": {
   "display_name": "env_travelbot",
   "language": "python",
   "name": "python3"
  },
  "language_info": {
   "codemirror_mode": {
    "name": "ipython",
    "version": 3
   },
   "file_extension": ".py",
   "mimetype": "text/x-python",
   "name": "python",
   "nbconvert_exporter": "python",
   "pygments_lexer": "ipython3",
   "version": "3.12.2"
  }
 },
 "nbformat": 4,
 "nbformat_minor": 2
}
